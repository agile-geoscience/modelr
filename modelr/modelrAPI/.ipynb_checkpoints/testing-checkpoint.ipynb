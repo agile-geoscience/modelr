{
 "cells": [
  {
   "cell_type": "code",
   "execution_count": 1,
   "metadata": {
    "collapsed": false
   },
   "outputs": [],
   "source": [
    "from modelrAPI import *\n",
    "from matplotlib import pyplot as plt\n",
    "import numpy as np\n",
    "%matplotlib inline"
   ]
  },
  {
   "cell_type": "code",
   "execution_count": 2,
   "metadata": {
    "collapsed": false
   },
   "outputs": [
    {
     "data": {
      "text/plain": [
       "'http://localhost:8080/earth_model'"
      ]
     },
     "execution_count": 2,
     "metadata": {},
     "output_type": "execute_result"
    }
   ],
   "source": [
    "modelrAPI.auth=0\n",
    "ImageModel.url()"
   ]
  },
  {
   "cell_type": "code",
   "execution_count": 3,
   "metadata": {
    "collapsed": false
   },
   "outputs": [],
   "source": [
    "earth = ImageModel.get('ahJkZXZ-bW9kZWxyLXRlc3RpbmdyWAsSDE1vZGVsclBhcmVudBiAgICAgICACgwLEgRVc2VyGICAgICAgMAIDAsSCkltYWdlTW9kZWwYgICAgICA4AkMCxIKRWFydGhNb2RlbBiAgICAgICQCAw')"
   ]
  },
  {
   "cell_type": "code",
   "execution_count": 5,
   "metadata": {
    "collapsed": false
   },
   "outputs": [
    {
     "name": "stdout",
     "output_type": "stream",
     "text": [
      "<modelrAPI.ImageModel object at 0x7f7bc16c2e90>\n"
     ]
    },
    {
     "ename": "AttributeError",
     "evalue": "'list' object has no attribute 'vp_std'",
     "output_type": "error",
     "traceback": [
      "\u001b[1;31m---------------------------------------------------------------------------\u001b[0m",
      "\u001b[1;31mAttributeError\u001b[0m                            Traceback (most recent call last)",
      "\u001b[1;32m<ipython-input-5-a2c09fcfd4e8>\u001b[0m in \u001b[0;36m<module>\u001b[1;34m()\u001b[0m\n\u001b[0;32m      1\u001b[0m \u001b[1;32mprint\u001b[0m \u001b[0mearth\u001b[0m\u001b[1;33m\u001b[0m\u001b[0m\n\u001b[0;32m      2\u001b[0m \u001b[0mplt\u001b[0m\u001b[1;33m.\u001b[0m\u001b[0msubplot\u001b[0m\u001b[1;33m(\u001b[0m\u001b[1;36m131\u001b[0m\u001b[1;33m)\u001b[0m\u001b[1;33m\u001b[0m\u001b[0m\n\u001b[1;32m----> 3\u001b[1;33m \u001b[0mplt\u001b[0m\u001b[1;33m.\u001b[0m\u001b[0mimshow\u001b[0m\u001b[1;33m(\u001b[0m\u001b[0mearth\u001b[0m\u001b[1;33m.\u001b[0m\u001b[0mvp\u001b[0m\u001b[1;33m)\u001b[0m\u001b[1;33m\u001b[0m\u001b[0m\n\u001b[0m\u001b[0;32m      4\u001b[0m \u001b[0mplt\u001b[0m\u001b[1;33m.\u001b[0m\u001b[0msubplot\u001b[0m\u001b[1;33m(\u001b[0m\u001b[1;36m132\u001b[0m\u001b[1;33m)\u001b[0m\u001b[1;33m\u001b[0m\u001b[0m\n\u001b[0;32m      5\u001b[0m \u001b[0mplt\u001b[0m\u001b[1;33m.\u001b[0m\u001b[0mimshow\u001b[0m\u001b[1;33m(\u001b[0m\u001b[0mearth\u001b[0m\u001b[1;33m.\u001b[0m\u001b[0mvs\u001b[0m\u001b[1;33m)\u001b[0m\u001b[1;33m\u001b[0m\u001b[0m\n",
      "\u001b[1;32m/home/ben/src/modelr/modelr/modelrAPI/modelrAPI.py\u001b[0m in \u001b[0;36mvp\u001b[1;34m(self)\u001b[0m\n\u001b[0;32m    136\u001b[0m     \u001b[1;33m@\u001b[0m\u001b[0mproperty\u001b[0m\u001b[1;33m\u001b[0m\u001b[0m\n\u001b[0;32m    137\u001b[0m     \u001b[1;32mdef\u001b[0m \u001b[0mvp\u001b[0m\u001b[1;33m(\u001b[0m\u001b[0mself\u001b[0m\u001b[1;33m)\u001b[0m\u001b[1;33m:\u001b[0m\u001b[1;33m\u001b[0m\u001b[0m\n\u001b[1;32m--> 138\u001b[1;33m         \u001b[1;32mreturn\u001b[0m \u001b[0mself\u001b[0m\u001b[1;33m.\u001b[0m\u001b[0m_get_data\u001b[0m\u001b[1;33m(\u001b[0m\u001b[1;34m\"vp\"\u001b[0m\u001b[1;33m)\u001b[0m\u001b[1;33m\u001b[0m\u001b[0m\n\u001b[0m\u001b[0;32m    139\u001b[0m \u001b[1;33m\u001b[0m\u001b[0m\n\u001b[0;32m    140\u001b[0m     \u001b[1;33m@\u001b[0m\u001b[0mproperty\u001b[0m\u001b[1;33m\u001b[0m\u001b[0m\n",
      "\u001b[1;32m/home/ben/src/modelr/modelr/modelrAPI/modelrAPI.py\u001b[0m in \u001b[0;36m_get_data\u001b[1;34m(self, var)\u001b[0m\n\u001b[0;32m    129\u001b[0m             \u001b[0mindex\u001b[0m \u001b[1;33m=\u001b[0m \u001b[0mself\u001b[0m\u001b[1;33m.\u001b[0m\u001b[0mimage\u001b[0m \u001b[1;33m==\u001b[0m \u001b[1;36m1\u001b[0m\u001b[1;33m\u001b[0m\u001b[0m\n\u001b[0;32m    130\u001b[0m             layer = (randn(np.sum(index)) *\n\u001b[1;32m--> 131\u001b[1;33m                      getattr(rock, var + \"_std\") + getattr(rock, var))\n\u001b[0m\u001b[0;32m    132\u001b[0m \u001b[1;33m\u001b[0m\u001b[0m\n\u001b[0;32m    133\u001b[0m             \u001b[0mnp\u001b[0m\u001b[1;33m.\u001b[0m\u001b[0mplace\u001b[0m\u001b[1;33m(\u001b[0m\u001b[0mdata\u001b[0m\u001b[1;33m,\u001b[0m \u001b[0mindex\u001b[0m\u001b[1;33m,\u001b[0m \u001b[0mlayer\u001b[0m\u001b[1;33m)\u001b[0m\u001b[1;33m\u001b[0m\u001b[0m\n",
      "\u001b[1;31mAttributeError\u001b[0m: 'list' object has no attribute 'vp_std'"
     ]
    },
    {
     "data": {
      "image/png": "[encoded data removed]",
      "text/plain": [
       "<matplotlib.figure.Figure at 0x7f7bc165e250>"
      ]
     },
     "metadata": {},
     "output_type": "display_data"
    }
   ],
   "source": [
    "print earth\n",
    "plt.subplot(131)\n",
    "plt.imshow(earth.vp)\n",
    "plt.subplot(132)\n",
    "plt.imshow(earth.vs)\n",
    "plt.subplot(133)\n",
    "plt.imshow(earth.rho)"
   ]
  },
  {
   "cell_type": "code",
   "execution_count": 17,
   "metadata": {
    "collapsed": false
   },
   "outputs": [],
   "source": [
    "a = '[{\\\"depth\\\":0,\\\"rock\\\":{\\\"rho_std\\\":50,\\\"rho\\\":2500,\\\"name\\\":\\\"test1\\\",\\\"vclay\\\":0.5,\\\"fluid\\\":\\\"\\\",\\\"fluid_id\\\":null,\\\"vs\\\":1500,\\\"porosity\\\":0.2,\\\"vp\\\":3000,\\\"description\\\":\\\"description\\\\r\\\\n\\\\t\\\\t  \\\",\\\"db_key\\\":5277655813324800,\\\"vs_std\\\":50,\\\"vp_std\\\":50},\\\"colour\\\":\\\"rgb(172,0,0)\\\",\\\"thickness\\\":447.9166666666667,\\\"subfluids\\\":[]},{\\\"depth\\\":447.9166666666667,\\\"rock\\\":{\\\"rho_std\\\":50,\\\"rho\\\":3000,\\\"name\\\":\\\"test2\\\",\\\"vclay\\\":0.5,\\\"fluid\\\":\\\"\\\",\\\"fluid_id\\\":null,\\\"vs\\\":2500,\\\"porosity\\\":0.2,\\\"vp\\\":4000,\\\"description\\\":\\\"description\\\\r\\\\n\\\\t\\\\t  \\\",\\\"db_key\\\":6122080743456768,\\\"vs_std\\\":50,\\\"vp_std\\\":50},\\\"colour\\\":\\\"rgb(148,0,35)\\\",\\\"thickness\\\":552.0833333333333,\\\"subfluids\\\":[]}]'"
   ]
  },
  {
   "cell_type": "code",
   "execution_count": 18,
   "metadata": {
    "collapsed": false
   },
   "outputs": [
    {
     "data": {
      "text/plain": [
       "[{u'colour': u'rgb(172,0,0)',\n",
       "  u'depth': 0,\n",
       "  u'rock': {u'db_key': 5277655813324800,\n",
       "   u'description': u'description\\r\\n\\t\\t  ',\n",
       "   u'fluid': u'',\n",
       "   u'fluid_id': None,\n",
       "   u'name': u'test1',\n",
       "   u'porosity': 0.2,\n",
       "   u'rho': 2500,\n",
       "   u'rho_std': 50,\n",
       "   u'vclay': 0.5,\n",
       "   u'vp': 3000,\n",
       "   u'vp_std': 50,\n",
       "   u'vs': 1500,\n",
       "   u'vs_std': 50},\n",
       "  u'subfluids': [],\n",
       "  u'thickness': 447.9166666666667},\n",
       " {u'colour': u'rgb(148,0,35)',\n",
       "  u'depth': 447.9166666666667,\n",
       "  u'rock': {u'db_key': 6122080743456768,\n",
       "   u'description': u'description\\r\\n\\t\\t  ',\n",
       "   u'fluid': u'',\n",
       "   u'fluid_id': None,\n",
       "   u'name': u'test2',\n",
       "   u'porosity': 0.2,\n",
       "   u'rho': 3000,\n",
       "   u'rho_std': 50,\n",
       "   u'vclay': 0.5,\n",
       "   u'vp': 4000,\n",
       "   u'vp_std': 50,\n",
       "   u'vs': 2500,\n",
       "   u'vs_std': 50},\n",
       "  u'subfluids': [],\n",
       "  u'thickness': 552.0833333333333}]"
      ]
     },
     "execution_count": 18,
     "metadata": {},
     "output_type": "execute_result"
    }
   ],
   "source": [
    "import json\n",
    "testing = json.loads(a)\n",
    "testing"
   ]
  },
  {
   "cell_type": "code",
   "execution_count": 13,
   "metadata": {
    "collapsed": false
   },
   "outputs": [],
   "source": [
    "rocks = [{\"thickness\": layer[\"thickness\"], \"rock\": layer[\"rock\"]} for layer in testing]\n",
    "em = make_earth_model1D(rocks, modelr)"
   ]
  },
  {
   "cell_type": "code",
   "execution_count": 19,
   "metadata": {
    "collapsed": false
   },
   "outputs": [
    {
     "data": {
      "text/plain": [
       "[<matplotlib.lines.Line2D at 0x7f2c336b1790>]"
      ]
     },
     "execution_count": 19,
     "metadata": {},
     "output_type": "execute_result"
    },
    {
     "data": {
      "image/png": "[encoded data removed]",
      "text/plain": [
       "<matplotlib.figure.Figure at 0x7f2c55b5c3d0>"
      ]
     },
     "metadata": {},
     "output_type": "display_data"
    }
   ],
   "source": [
    "plt.plot(em.vp);"
   ]
  },
  {
   "cell_type": "code",
   "execution_count": 9,
   "metadata": {
    "collapsed": false
   },
   "outputs": [
    {
     "data": {
      "text/plain": [
       "[<rock.Rock instance at 0x7f2c339b0128>,\n",
       " <rock.Rock instance at 0x7f2c33b1e4d0>]"
      ]
     },
     "execution_count": 9,
     "metadata": {},
     "output_type": "execute_result"
    }
   ],
   "source": [
    "em.roc"
   ]
  },
  {
   "cell_type": "code",
   "execution_count": null,
   "metadata": {
    "collapsed": true
   },
   "outputs": [],
   "source": []
  },
  {
   "cell_type": "code",
   "execution_count": null,
   "metadata": {
    "collapsed": true
   },
   "outputs": [],
   "source": []
  }
 ],
 "metadata": {
  "kernelspec": {
   "display_name": "Python 2",
   "language": "python",
   "name": "python2"
  },
  "language_info": {
   "codemirror_mode": {
    "name": "ipython",
    "version": 2
   },
   "file_extension": ".py",
   "mimetype": "text/x-python",
   "name": "python",
   "nbconvert_exporter": "python",
   "pygments_lexer": "ipython2",
   "version": "2.7.10"
  }
 },
 "nbformat": 4,
 "nbformat_minor": 0
}
