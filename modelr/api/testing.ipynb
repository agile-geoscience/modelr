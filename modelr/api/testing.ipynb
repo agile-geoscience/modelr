{
 "cells": [
  {
   "cell_type": "code",
   "execution_count": 1,
   "metadata": {
    "collapsed": false
   },
   "outputs": [],
   "source": [
    "import requests\n",
    "from matplotlib import pyplot as plt\n",
    "import numpy as np\n",
    "from modelrAPI import modelrAPI, Rock, Fluid\n",
    "%matplotlib inline"
   ]
  },
  {
   "cell_type": "code",
   "execution_count": 2,
   "metadata": {
    "collapsed": false
   },
   "outputs": [
    {
     "name": "stdout",
     "output_type": "stream",
     "text": [
      "[{u'key': u'ag9kZXZ-YWdpbGVtb2RlbHJyOwsSDE1vZGVsclBhcmVudBiAgICAgICACgwLEgRVc2VyGICAgICAgMAIDAsSBFJvY2sYgICAgICA2AkM', u'description': u'description\\r\\n\\t\\t  ', u'name': u'test2', u'fluid': None}, {u'key': u'ag9kZXZ-YWdpbGVtb2RlbHJyOwsSDE1vZGVsclBhcmVudBiAgICAgICACgwLEgRVc2VyGICAgICAgMAIDAsSBFJvY2sYgICAgICAmAsM', u'description': u'description\\r\\n\\t\\t  ', u'name': u'test', u'fluid': None}]\n"
     ]
    }
   ],
   "source": [
    "rocks = Rock.ls()\n",
    "print rocks"
   ]
  },
  {
   "cell_type": "code",
   "execution_count": 3,
   "metadata": {
    "collapsed": false
   },
   "outputs": [
    {
     "name": "stdout",
     "output_type": "stream",
     "text": [
      "<modelrAPI.Rock object at 0x7f3c19acd6d0>\n"
     ]
    }
   ],
   "source": [
    "rock = Rock.get(rocks[0][\"key\"])\n",
    "print rock"
   ]
  },
  {
   "cell_type": "code",
   "execution_count": 5,
   "metadata": {
    "collapsed": false
   },
   "outputs": [
    {
     "data": {
      "text/plain": [
       "(5000.0, 2500.0, 3000.0, None)"
      ]
     },
     "execution_count": 5,
     "metadata": {},
     "output_type": "execute_result"
    }
   ],
   "source": [
    "rock.vp, rock.vs, rock.rho, rock.fluid"
   ]
  },
  {
   "cell_type": "code",
   "execution_count": 7,
   "metadata": {
    "collapsed": false
   },
   "outputs": [
    {
     "name": "stdout",
     "output_type": "stream",
     "text": [
      "[{u'description': u'description', u'key': u'ag9kZXZ-YWdpbGVtb2RlbHJyPAsSDE1vZGVsclBhcmVudBiAgICAgICACgwLEgRVc2VyGICAgICAgMAIDAsSBUZsdWlkGICAgICAgKQIDA', u'name': u'fluid1'}, {u'description': u'description', u'key': u'ag9kZXZ-YWdpbGVtb2RlbHJyPAsSDE1vZGVsclBhcmVudBiAgICAgICACgwLEgRVc2VyGICAgICAgMAIDAsSBUZsdWlkGICAgICAgKQLDA', u'name': u'fluid2'}]\n"
     ]
    }
   ],
   "source": [
    "fluids = Fluid.ls()\n",
    "print fluids"
   ]
  },
  {
   "cell_type": "code",
   "execution_count": 8,
   "metadata": {
    "collapsed": false
   },
   "outputs": [],
   "source": [
    "fluid = Fluid.get(fluids[0][\"key\"])"
   ]
  },
  {
   "cell_type": "code",
   "execution_count": 13,
   "metadata": {
    "collapsed": false
   },
   "outputs": [],
   "source": [
    "rocks = [{\"thickness\": layer[\"thickness\"], \"rock\": layer[\"rock\"]} for layer in testing]\n",
    "em = make_earth_model1D(rocks, modelr)"
   ]
  },
  {
   "cell_type": "code",
   "execution_count": 19,
   "metadata": {
    "collapsed": false
   },
   "outputs": [
    {
     "data": {
      "text/plain": [
       "[<matplotlib.lines.Line2D at 0x7f2c336b1790>]"
      ]
     },
     "execution_count": 19,
     "metadata": {},
     "output_type": "execute_result"
    },
    {
     "data": {
      "image/png": "[encoded data removed]",
      "text/plain": [
       "<matplotlib.figure.Figure at 0x7f2c55b5c3d0>"
      ]
     },
     "metadata": {},
     "output_type": "display_data"
    }
   ],
   "source": [
    "plt.plot(em.vp);"
   ]
  },
  {
   "cell_type": "code",
   "execution_count": 9,
   "metadata": {
    "collapsed": false
   },
   "outputs": [
    {
     "data": {
      "text/plain": [
       "[<rock.Rock instance at 0x7f2c339b0128>,\n",
       " <rock.Rock instance at 0x7f2c33b1e4d0>]"
      ]
     },
     "execution_count": 9,
     "metadata": {},
     "output_type": "execute_result"
    }
   ],
   "source": [
    "em.roc"
   ]
  },
  {
   "cell_type": "code",
   "execution_count": null,
   "metadata": {
    "collapsed": true
   },
   "outputs": [],
   "source": []
  },
  {
   "cell_type": "code",
   "execution_count": null,
   "metadata": {
    "collapsed": true
   },
   "outputs": [],
   "source": []
  }
 ],
 "metadata": {
  "kernelspec": {
   "display_name": "Python 2",
   "language": "python",
   "name": "python2"
  },
  "language_info": {
   "codemirror_mode": {
    "name": "ipython",
    "version": 2
   },
   "file_extension": ".py",
   "mimetype": "text/x-python",
   "name": "python",
   "nbconvert_exporter": "python",
   "pygments_lexer": "ipython2",
   "version": "2.7.10"
  }
 },
 "nbformat": 4,
 "nbformat_minor": 0
}
