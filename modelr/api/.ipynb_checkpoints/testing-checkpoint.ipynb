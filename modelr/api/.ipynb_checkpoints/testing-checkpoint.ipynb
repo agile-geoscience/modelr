{
 "cells": [
  {
   "cell_type": "code",
   "execution_count": 1,
   "metadata": {
    "collapsed": false
   },
   "outputs": [],
   "source": [
    "import requests\n",
    "from matplotlib import pyplot as plt\n",
    "import numpy as np\n",
    "from modelrAPI import modelrAPI, Rock, Fluid\n",
    "%matplotlib inline"
   ]
  },
  {
   "cell_type": "code",
   "execution_count": 2,
   "metadata": {
    "collapsed": false
   },
   "outputs": [],
   "source": [
    "rocks = Rock.ls()\n",
    "print rocks"
   ]
  },
  {
   "cell_type": "code",
   "execution_count": 3,
   "metadata": {
    "collapsed": false
   },
   "outputs": [
    {
     "name": "stdout",
     "output_type": "stream",
     "text": [
      "{u'kclay': 25000000000.0, u'phi': 0.2, u'rho_std': 50.0, u'description': u'description\\r\\n\\t\\t  ', u'vp_std': 50.0, u'fluid': None, u'vp': 5000.0, u'vs_std': 50.0, u'kqtz': 37000000000.0, u'vs': 2500.0, u'db_key': u'ag9kZXZ-YWdpbGVtb2RlbHJyOwsSDE1vZGVsclBhcmVudBiAgICAgICACgwLEgRVc2VyGICAgICAgMAIDAsSBFJvY2sYgICAgICA2AkM', u'rho': 3000.0, u'vclay': 0.5, u'name': u'test2'}\n"
     ]
    },
    {
     "ename": "TypeError",
     "evalue": "object of type 'Rock' has no len()",
     "output_type": "error",
     "traceback": [
      "\u001b[1;31m---------------------------------------------------------------------------\u001b[0m",
      "\u001b[1;31mTypeError\u001b[0m                                 Traceback (most recent call last)",
      "\u001b[1;32m<ipython-input-3-0331aa287620>\u001b[0m in \u001b[0;36m<module>\u001b[1;34m()\u001b[0m\n\u001b[1;32m----> 1\u001b[1;33m \u001b[0mrock\u001b[0m \u001b[1;33m=\u001b[0m \u001b[0mRock\u001b[0m\u001b[1;33m.\u001b[0m\u001b[0mget\u001b[0m\u001b[1;33m(\u001b[0m\u001b[0mrocks\u001b[0m\u001b[1;33m[\u001b[0m\u001b[1;36m0\u001b[0m\u001b[1;33m]\u001b[0m\u001b[1;33m[\u001b[0m\u001b[1;34m\"key\"\u001b[0m\u001b[1;33m]\u001b[0m\u001b[1;33m)\u001b[0m\u001b[1;33m\u001b[0m\u001b[0m\n\u001b[0m",
      "\u001b[1;32m/home/ben/src/modelr/modelr/api/modelrAPI.py\u001b[0m in \u001b[0;36mget\u001b[1;34m(cls, keys)\u001b[0m\n\u001b[0;32m     71\u001b[0m             \u001b[1;32mraise\u001b[0m \u001b[0mmodelrAPIException\u001b[0m\u001b[1;33m\u001b[0m\u001b[0m\n\u001b[0;32m     72\u001b[0m \u001b[1;33m\u001b[0m\u001b[0m\n\u001b[1;32m---> 73\u001b[1;33m         \u001b[1;32mif\u001b[0m \u001b[0mlen\u001b[0m\u001b[1;33m(\u001b[0m\u001b[0moutput\u001b[0m\u001b[1;33m)\u001b[0m \u001b[1;33m==\u001b[0m \u001b[1;36m1\u001b[0m\u001b[1;33m:\u001b[0m\u001b[1;33m\u001b[0m\u001b[0m\n\u001b[0m\u001b[0;32m     74\u001b[0m             \u001b[0moutput\u001b[0m \u001b[1;33m=\u001b[0m \u001b[0moutput\u001b[0m\u001b[1;33m[\u001b[0m\u001b[1;36m0\u001b[0m\u001b[1;33m]\u001b[0m\u001b[1;33m\u001b[0m\u001b[0m\n\u001b[0;32m     75\u001b[0m         \u001b[1;32mreturn\u001b[0m \u001b[0moutput\u001b[0m\u001b[1;33m\u001b[0m\u001b[0m\n",
      "\u001b[1;31mTypeError\u001b[0m: object of type 'Rock' has no len()"
     ]
    }
   ],
   "source": [
    "rock = Rock.get(rocks[0][\"key\"])"
   ]
  },
  {
   "cell_type": "code",
   "execution_count": 42,
   "metadata": {
    "collapsed": false
   },
   "outputs": [
    {
     "name": "stdout",
     "output_type": "stream",
     "text": [
      "-0.0102017028257\n"
     ]
    }
   ],
   "source": [
    "rpp = np.array(data[\"rpp\"])\n",
    "log_data = np.array(data[\"log_data\"])\n",
    "print np.amin(rpp[:,1])"
   ]
  },
  {
   "cell_type": "code",
   "execution_count": 43,
   "metadata": {
    "collapsed": false
   },
   "outputs": [
    {
     "data": {
      "text/plain": [
       "[<matplotlib.lines.Line2D at 0x7ff735bdb850>,\n",
       " <matplotlib.lines.Line2D at 0x7ff735bdbad0>,\n",
       " <matplotlib.lines.Line2D at 0x7ff735bdbd10>,\n",
       " <matplotlib.lines.Line2D at 0x7ff735bdbed0>,\n",
       " <matplotlib.lines.Line2D at 0x7ff735be60d0>,\n",
       " <matplotlib.lines.Line2D at 0x7ff735be6290>,\n",
       " <matplotlib.lines.Line2D at 0x7ff735be6450>,\n",
       " <matplotlib.lines.Line2D at 0x7ff73760b550>,\n",
       " <matplotlib.lines.Line2D at 0x7ff735be67d0>,\n",
       " <matplotlib.lines.Line2D at 0x7ff735be6990>,\n",
       " <matplotlib.lines.Line2D at 0x7ff735be6b50>,\n",
       " <matplotlib.lines.Line2D at 0x7ff735be6d10>]"
      ]
     },
     "execution_count": 43,
     "metadata": {},
     "output_type": "execute_result"
    },
    {
     "data": {
      "image/png": "[encoded data removed]",
      "text/plain": [
       "<matplotlib.figure.Figure at 0x7ff737719f10>"
      ]
     },
     "metadata": {},
     "output_type": "display_data"
    }
   ],
   "source": [
    "plt.plot(data[\"synth\"])\n"
   ]
  },
  {
   "cell_type": "code",
   "execution_count": 18,
   "metadata": {
    "collapsed": false
   },
   "outputs": [
    {
     "data": {
      "text/plain": [
       "[{u'colour': u'rgb(172,0,0)',\n",
       "  u'depth': 0,\n",
       "  u'rock': {u'db_key': 5277655813324800,\n",
       "   u'description': u'description\\r\\n\\t\\t  ',\n",
       "   u'fluid': u'',\n",
       "   u'fluid_id': None,\n",
       "   u'name': u'test1',\n",
       "   u'porosity': 0.2,\n",
       "   u'rho': 2500,\n",
       "   u'rho_std': 50,\n",
       "   u'vclay': 0.5,\n",
       "   u'vp': 3000,\n",
       "   u'vp_std': 50,\n",
       "   u'vs': 1500,\n",
       "   u'vs_std': 50},\n",
       "  u'subfluids': [],\n",
       "  u'thickness': 447.9166666666667},\n",
       " {u'colour': u'rgb(148,0,35)',\n",
       "  u'depth': 447.9166666666667,\n",
       "  u'rock': {u'db_key': 6122080743456768,\n",
       "   u'description': u'description\\r\\n\\t\\t  ',\n",
       "   u'fluid': u'',\n",
       "   u'fluid_id': None,\n",
       "   u'name': u'test2',\n",
       "   u'porosity': 0.2,\n",
       "   u'rho': 3000,\n",
       "   u'rho_std': 50,\n",
       "   u'vclay': 0.5,\n",
       "   u'vp': 4000,\n",
       "   u'vp_std': 50,\n",
       "   u'vs': 2500,\n",
       "   u'vs_std': 50},\n",
       "  u'subfluids': [],\n",
       "  u'thickness': 552.0833333333333}]"
      ]
     },
     "execution_count": 18,
     "metadata": {},
     "output_type": "execute_result"
    }
   ],
   "source": []
  },
  {
   "cell_type": "code",
   "execution_count": 13,
   "metadata": {
    "collapsed": false
   },
   "outputs": [],
   "source": [
    "rocks = [{\"thickness\": layer[\"thickness\"], \"rock\": layer[\"rock\"]} for layer in testing]\n",
    "em = make_earth_model1D(rocks, modelr)"
   ]
  },
  {
   "cell_type": "code",
   "execution_count": 19,
   "metadata": {
    "collapsed": false
   },
   "outputs": [
    {
     "data": {
      "text/plain": [
       "[<matplotlib.lines.Line2D at 0x7f2c336b1790>]"
      ]
     },
     "execution_count": 19,
     "metadata": {},
     "output_type": "execute_result"
    },
    {
     "data": {
      "image/png": "[encoded data removed]",
      "text/plain": [
       "<matplotlib.figure.Figure at 0x7f2c55b5c3d0>"
      ]
     },
     "metadata": {},
     "output_type": "display_data"
    }
   ],
   "source": [
    "plt.plot(em.vp);"
   ]
  },
  {
   "cell_type": "code",
   "execution_count": 9,
   "metadata": {
    "collapsed": false
   },
   "outputs": [
    {
     "data": {
      "text/plain": [
       "[<rock.Rock instance at 0x7f2c339b0128>,\n",
       " <rock.Rock instance at 0x7f2c33b1e4d0>]"
      ]
     },
     "execution_count": 9,
     "metadata": {},
     "output_type": "execute_result"
    }
   ],
   "source": [
    "em.roc"
   ]
  },
  {
   "cell_type": "code",
   "execution_count": null,
   "metadata": {
    "collapsed": true
   },
   "outputs": [],
   "source": []
  },
  {
   "cell_type": "code",
   "execution_count": null,
   "metadata": {
    "collapsed": true
   },
   "outputs": [],
   "source": []
  }
 ],
 "metadata": {
  "kernelspec": {
   "display_name": "Python 2",
   "language": "python",
   "name": "python2"
  },
  "language_info": {
   "codemirror_mode": {
    "name": "ipython",
    "version": 2
   },
   "file_extension": ".py",
   "mimetype": "text/x-python",
   "name": "python",
   "nbconvert_exporter": "python",
   "pygments_lexer": "ipython2",
   "version": "2.7.10"
  }
 },
 "nbformat": 4,
 "nbformat_minor": 0
}
