{
 "cells": [
  {
   "cell_type": "code",
   "execution_count": 15,
   "metadata": {
    "collapsed": false
   },
   "outputs": [],
   "source": [
    "import requests\n",
    "from matplotlib import pyplot as plt\n",
    "import numpy as np\n",
    "%matplotlib inline"
   ]
  },
  {
   "cell_type": "code",
   "execution_count": 18,
   "metadata": {
    "collapsed": false
   },
   "outputs": [],
   "source": [
    "req = \"http://127.0.0.1:8081/data.json?type=seismic&script=fluid_sub.py&payload=%7B%22seismic%22%3A%7B%22frequency%22%3A%2230%22%2C%22wavelet%22%3A%22ricker%22%2C%22theta%22%3A%5B0%2C3%2C6%2C9%2C12%2C15%2C18%2C21%2C24%2C27%2C30%5D%2C%22dt%22%3A0.001%7D%2C%22earth_model%22%3A%5B%7B%22rock%22%3A%7B%22name%22%3A%22test2%22%2C%22rho%22%3A1500%2C%22db_key%22%3A%22ag9kZXZ-YWdpbGVtb2RlbHJyOwsSDE1vZGVsclBhcmVudBiAgICAgICACgwLEgRVc2VyGICAgICAgMAIDAsSBFJvY2sYgICAgICAoAkM%22%2C%22vs_std%22%3A50%2C%22phi%22%3A0.2%2C%22vp_std%22%3A50%2C%22kclay%22%3A25000000000%2C%22kqtz%22%3A37000000000%2C%22vp%22%3A4000%2C%22description%22%3A%22description%5Cr%5Cn%5Ct%5Ct++%22%2C%22vs%22%3A2500%2C%22rho_std%22%3A50%2C%22vclay%22%3A0.5%2C%22fluid%22%3Anull%7D%2C%22thickness%22%3A500%2C%22subfluids%22%3A%5B%5D%7D%2C%7B%22rock%22%3A%7B%22name%22%3A%22test1%22%2C%22rho%22%3A2500%2C%22db_key%22%3A%22ag9kZXZ-YWdpbGVtb2RlbHJyOwsSDE1vZGVsclBhcmVudBiAgICAgICACgwLEgRVc2VyGICAgICAgMAIDAsSBFJvY2sYgICAgICAwAsM%22%2C%22vs_std%22%3A50%2C%22phi%22%3A0.2%2C%22vp_std%22%3A50%2C%22kclay%22%3A25000000000%2C%22kqtz%22%3A37000000000%2C%22vp%22%3A3000%2C%22description%22%3A%22description%5Cr%5Cn%5Ct%5Ct++%22%2C%22vs%22%3A1500%2C%22rho_std%22%3A50%2C%22vclay%22%3A0.5%2C%22fluid%22%3Anull%7D%2C%22thickness%22%3A500%2C%22subfluids%22%3A%5B%5D%7D%5D%7D\""
   ]
  },
  {
   "cell_type": "code",
   "execution_count": 20,
   "metadata": {
    "collapsed": false
   },
   "outputs": [],
   "source": [
    "data = requests.get(req)"
   ]
  },
  {
   "cell_type": "code",
   "execution_count": 14,
   "metadata": {
    "collapsed": false
   },
   "outputs": [
    {
     "ename": "SyntaxError",
     "evalue": "invalid syntax (<ipython-input-14-1adda7b3306c>, line 1)",
     "output_type": "error",
     "traceback": [
      "\u001b[1;36m  File \u001b[1;32m\"<ipython-input-14-1adda7b3306c>\"\u001b[1;36m, line \u001b[1;32m1\u001b[0m\n\u001b[1;33m    data.\u001b[0m\n\u001b[1;37m         ^\u001b[0m\n\u001b[1;31mSyntaxError\u001b[0m\u001b[1;31m:\u001b[0m invalid syntax\n"
     ]
    }
   ],
   "source": [
    "data."
   ]
  },
  {
   "cell_type": "code",
   "execution_count": 17,
   "metadata": {
    "collapsed": false
   },
   "outputs": [],
   "source": [
    "a = '[{\\\"depth\\\":0,\\\"rock\\\":{\\\"rho_std\\\":50,\\\"rho\\\":2500,\\\"name\\\":\\\"test1\\\",\\\"vclay\\\":0.5,\\\"fluid\\\":\\\"\\\",\\\"fluid_id\\\":null,\\\"vs\\\":1500,\\\"porosity\\\":0.2,\\\"vp\\\":3000,\\\"description\\\":\\\"description\\\\r\\\\n\\\\t\\\\t  \\\",\\\"db_key\\\":5277655813324800,\\\"vs_std\\\":50,\\\"vp_std\\\":50},\\\"colour\\\":\\\"rgb(172,0,0)\\\",\\\"thickness\\\":447.9166666666667,\\\"subfluids\\\":[]},{\\\"depth\\\":447.9166666666667,\\\"rock\\\":{\\\"rho_std\\\":50,\\\"rho\\\":3000,\\\"name\\\":\\\"test2\\\",\\\"vclay\\\":0.5,\\\"fluid\\\":\\\"\\\",\\\"fluid_id\\\":null,\\\"vs\\\":2500,\\\"porosity\\\":0.2,\\\"vp\\\":4000,\\\"description\\\":\\\"description\\\\r\\\\n\\\\t\\\\t  \\\",\\\"db_key\\\":6122080743456768,\\\"vs_std\\\":50,\\\"vp_std\\\":50},\\\"colour\\\":\\\"rgb(148,0,35)\\\",\\\"thickness\\\":552.0833333333333,\\\"subfluids\\\":[]}]'"
   ]
  },
  {
   "cell_type": "code",
   "execution_count": 18,
   "metadata": {
    "collapsed": false
   },
   "outputs": [
    {
     "data": {
      "text/plain": [
       "[{u'colour': u'rgb(172,0,0)',\n",
       "  u'depth': 0,\n",
       "  u'rock': {u'db_key': 5277655813324800,\n",
       "   u'description': u'description\\r\\n\\t\\t  ',\n",
       "   u'fluid': u'',\n",
       "   u'fluid_id': None,\n",
       "   u'name': u'test1',\n",
       "   u'porosity': 0.2,\n",
       "   u'rho': 2500,\n",
       "   u'rho_std': 50,\n",
       "   u'vclay': 0.5,\n",
       "   u'vp': 3000,\n",
       "   u'vp_std': 50,\n",
       "   u'vs': 1500,\n",
       "   u'vs_std': 50},\n",
       "  u'subfluids': [],\n",
       "  u'thickness': 447.9166666666667},\n",
       " {u'colour': u'rgb(148,0,35)',\n",
       "  u'depth': 447.9166666666667,\n",
       "  u'rock': {u'db_key': 6122080743456768,\n",
       "   u'description': u'description\\r\\n\\t\\t  ',\n",
       "   u'fluid': u'',\n",
       "   u'fluid_id': None,\n",
       "   u'name': u'test2',\n",
       "   u'porosity': 0.2,\n",
       "   u'rho': 3000,\n",
       "   u'rho_std': 50,\n",
       "   u'vclay': 0.5,\n",
       "   u'vp': 4000,\n",
       "   u'vp_std': 50,\n",
       "   u'vs': 2500,\n",
       "   u'vs_std': 50},\n",
       "  u'subfluids': [],\n",
       "  u'thickness': 552.0833333333333}]"
      ]
     },
     "execution_count": 18,
     "metadata": {},
     "output_type": "execute_result"
    }
   ],
   "source": []
  },
  {
   "cell_type": "code",
   "execution_count": 13,
   "metadata": {
    "collapsed": false
   },
   "outputs": [],
   "source": [
    "rocks = [{\"thickness\": layer[\"thickness\"], \"rock\": layer[\"rock\"]} for layer in testing]\n",
    "em = make_earth_model1D(rocks, modelr)"
   ]
  },
  {
   "cell_type": "code",
   "execution_count": 19,
   "metadata": {
    "collapsed": false
   },
   "outputs": [
    {
     "data": {
      "text/plain": [
       "[<matplotlib.lines.Line2D at 0x7f2c336b1790>]"
      ]
     },
     "execution_count": 19,
     "metadata": {},
     "output_type": "execute_result"
    },
    {
     "data": {
      "image/png": "[encoded data removed]",
      "text/plain": [
       "<matplotlib.figure.Figure at 0x7f2c55b5c3d0>"
      ]
     },
     "metadata": {},
     "output_type": "display_data"
    }
   ],
   "source": [
    "plt.plot(em.vp);"
   ]
  },
  {
   "cell_type": "code",
   "execution_count": 9,
   "metadata": {
    "collapsed": false
   },
   "outputs": [
    {
     "data": {
      "text/plain": [
       "[<rock.Rock instance at 0x7f2c339b0128>,\n",
       " <rock.Rock instance at 0x7f2c33b1e4d0>]"
      ]
     },
     "execution_count": 9,
     "metadata": {},
     "output_type": "execute_result"
    }
   ],
   "source": [
    "em.roc"
   ]
  },
  {
   "cell_type": "code",
   "execution_count": null,
   "metadata": {
    "collapsed": true
   },
   "outputs": [],
   "source": []
  },
  {
   "cell_type": "code",
   "execution_count": null,
   "metadata": {
    "collapsed": true
   },
   "outputs": [],
   "source": []
  }
 ],
 "metadata": {
  "kernelspec": {
   "display_name": "Python 2",
   "language": "python",
   "name": "python2"
  },
  "language_info": {
   "codemirror_mode": {
    "name": "ipython",
    "version": 2
   },
   "file_extension": ".py",
   "mimetype": "text/x-python",
   "name": "python",
   "nbconvert_exporter": "python",
   "pygments_lexer": "ipython2",
   "version": "2.7.10"
  }
 },
 "nbformat": 4,
 "nbformat_minor": 0
}
