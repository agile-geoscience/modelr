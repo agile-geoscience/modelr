{
 "cells": [
  {
   "cell_type": "code",
   "execution_count": 12,
   "metadata": {
    "collapsed": false
   },
   "outputs": [],
   "source": [
    "from matplotlib import pyplot as plt\n",
    "import numpy as np\n",
    "from modelr.api import Rock, Fluid, ImageModel, ImageModelPersist, Seismic"
   ]
  },
  {
   "cell_type": "code",
   "execution_count": 3,
   "metadata": {
    "collapsed": false
   },
   "outputs": [
    {
     "name": "stdout",
     "output_type": "stream",
     "text": [
      "[{u'key': u'ag9kZXZ-YWdpbGVtb2RlbHJyOwsSDE1vZGVsclBhcmVudBiAgICAgICACgwLEgRVc2VyGICAgICAgMAIDAsSBFJvY2sYgICAgIDA7wkM', u'name': u'test2', u'fluid': None, u'description': u'description\\r\\n\\t\\t  '}, {u'key': u'ag9kZXZ-YWdpbGVtb2RlbHJyOwsSDE1vZGVsclBhcmVudBiAgICAgICACgwLEgRVc2VyGICAgICAgMAIDAsSBFJvY2sYgICAgIDArwsM', u'name': u'test', u'fluid': None, u'description': u'description\\r\\n\\t\\t  '}]\n"
     ]
    }
   ],
   "source": [
    "rocks = Rock.ls()\n",
    "print rocks"
   ]
  },
  {
   "cell_type": "code",
   "execution_count": 4,
   "metadata": {
    "collapsed": false
   },
   "outputs": [
    {
     "data": {
      "text/plain": [
       "['__class__',\n",
       " '__delattr__',\n",
       " '__dict__',\n",
       " '__doc__',\n",
       " '__format__',\n",
       " '__getattribute__',\n",
       " '__hash__',\n",
       " '__init__',\n",
       " '__module__',\n",
       " '__new__',\n",
       " '__reduce__',\n",
       " '__reduce_ex__',\n",
       " '__repr__',\n",
       " '__setattr__',\n",
       " '__sizeof__',\n",
       " '__str__',\n",
       " '__subclasshook__',\n",
       " '__weakref__',\n",
       " 'auth',\n",
       " 'fluid',\n",
       " 'from_json',\n",
       " 'get',\n",
       " 'handler',\n",
       " 'host',\n",
       " 'kclay',\n",
       " 'kqtz',\n",
       " 'ls',\n",
       " 'phi',\n",
       " 'porosity',\n",
       " 'rho',\n",
       " 'rho_std',\n",
       " 'url',\n",
       " 'vclay',\n",
       " 'vp',\n",
       " 'vp_std',\n",
       " 'vs',\n",
       " 'vs_std']"
      ]
     },
     "execution_count": 4,
     "metadata": {},
     "output_type": "execute_result"
    }
   ],
   "source": [
    "rock = Rock.get(rocks[0][\"key\"])\n",
    "dir(rock)"
   ]
  },
  {
   "cell_type": "code",
   "execution_count": 5,
   "metadata": {
    "collapsed": false
   },
   "outputs": [
    {
     "name": "stdout",
     "output_type": "stream",
     "text": [
      "[]\n"
     ]
    }
   ],
   "source": [
    "fluids = Fluid.ls()\n",
    "print fluids"
   ]
  },
  {
   "cell_type": "code",
   "execution_count": 6,
   "metadata": {
    "collapsed": false
   },
   "outputs": [],
   "source": [
    "#fluid = Fluid.get(fluids[0][\"key\"])\n",
    "#dir(fluid)"
   ]
  },
  {
   "cell_type": "code",
   "execution_count": 7,
   "metadata": {
    "collapsed": false
   },
   "outputs": [
    {
     "name": "stdout",
     "output_type": "stream",
     "text": [
      "[{u'name': u'testing', u'key': u'ag9kZXZ-YWdpbGVtb2RlbHJyWAsSDE1vZGVsclBhcmVudBiAgICAgICACgwLEgRVc2VyGICAgICAgMAIDAsSCkltYWdlTW9kZWwYgICAgICAwAsMCxIKRWFydGhNb2RlbBiAgICAgOCXCgw', u'description': u'empty'}]\n"
     ]
    }
   ],
   "source": [
    "image_models = ImageModel.ls()\n",
    "print image_models"
   ]
  },
  {
   "cell_type": "code",
   "execution_count": 8,
   "metadata": {
    "collapsed": false,
    "scrolled": true
   },
   "outputs": [],
   "source": [
    "im = ImageModelPersist.get(image_models[0][\"key\"])\n"
   ]
  },
  {
   "cell_type": "code",
   "execution_count": 9,
   "metadata": {
    "collapsed": false
   },
   "outputs": [
    {
     "data": {
      "text/plain": [
       "array([[[-0.01362578, -0.01368493, -0.01386323, ..., -0.01670546,\n",
       "         -0.01773076, -0.01894646],\n",
       "        [ 0.04414324,  0.04405418,  0.04378868, ...,  0.04011158,\n",
       "          0.03901544,  0.03785362],\n",
       "        [ 0.02480532,  0.02479289,  0.02475666, ...,  0.02441118,\n",
       "          0.02438346,  0.02440911],\n",
       "        ..., \n",
       "        [ 0.0116368 ,  0.01156873,  0.01136469, ...,  0.00832109,\n",
       "          0.00730941,  0.00616111],\n",
       "        [ 0.00769486,  0.00768487,  0.00765517, ...,  0.00726376,\n",
       "          0.00715662,  0.00704998],\n",
       "        [-0.02543384, -0.02537173, -0.02518617, ..., -0.0225382 ,\n",
       "         -0.02171121, -0.02080708]],\n",
       "\n",
       "       [[ 0.02849969,  0.02839795,  0.0280961 , ...,  0.02419454,\n",
       "          0.02316765,  0.02218035],\n",
       "        [-0.01242836, -0.01239143, -0.01228051, ..., -0.01058593,\n",
       "         -0.01000461, -0.00933283],\n",
       "        [-0.01417495, -0.01416237, -0.01412519, ..., -0.01367473,\n",
       "         -0.01357119, -0.01348372],\n",
       "        ..., \n",
       "        [-0.01027257, -0.01022738, -0.01009267, ..., -0.00822863,\n",
       "         -0.00767352, -0.00708534],\n",
       "        [-0.01712519, -0.01690866, -0.0162617 , ..., -0.00702547,\n",
       "         -0.0041382 , -0.00097918],\n",
       "        [ 0.02369419,  0.02370895,  0.02375374, ...,  0.02452095,\n",
       "          0.0248203 ,  0.02518918]],\n",
       "\n",
       "       [[-0.01131779, -0.01151266, -0.01209681, ..., -0.02079525,\n",
       "         -0.02367897, -0.02694631],\n",
       "        [ 0.00050675,  0.00042811,  0.00019356, ..., -0.00307079,\n",
       "         -0.00405139, -0.0050961 ],\n",
       "        [ 0.01055677,  0.01057911,  0.01064626, ...,  0.01168371,\n",
       "          0.01204463,  0.01246488],\n",
       "        ..., \n",
       "        [ 0.00446619,  0.00467139,  0.00528486, ...,  0.01411647,\n",
       "          0.01691151,  0.01999346],\n",
       "        [ 0.01882645,  0.01874986,  0.01852259, ...,  0.01557431,\n",
       "          0.01479234,  0.0140351 ],\n",
       "        [ 0.00604779,  0.00611037,  0.00629749, ...,  0.00899571,\n",
       "          0.00985152,  0.01079634]],\n",
       "\n",
       "       ..., \n",
       "       [[ 0.00393744,  0.00584555,  0.01153573, ...,  0.09084386,\n",
       "          0.11481733,  0.14053978],\n",
       "        [ 0.01887602,  0.02105937,  0.02757012, ...,  0.11828416,\n",
       "          0.14569798,  0.17511217],\n",
       "        [-0.01927529, -0.01660783, -0.00865699, ...,  0.1014997 ,\n",
       "          0.13451768,  0.16977002],\n",
       "        ..., \n",
       "        [-0.02258812, -0.02230529, -0.02146066, ..., -0.00947466,\n",
       "         -0.00576087, -0.00171999],\n",
       "        [ 0.04154178,  0.04174759,  0.04236598, ...,  0.05185967,\n",
       "          0.05514013,  0.05894924],\n",
       "        [-0.00228424, -0.00221575, -0.00201244, ...,  0.00063918,\n",
       "          0.00135226,  0.00205291]],\n",
       "\n",
       "       [[-0.009564  , -0.00729307, -0.00052383, ...,  0.09330546,\n",
       "          0.12143971,  0.15147734],\n",
       "        [ 0.00200461,  0.00384082,  0.00931661, ...,  0.0856416 ,\n",
       "          0.10871575,  0.13347491],\n",
       "        [ 0.00659013,  0.008908  ,  0.01581792, ...,  0.11174502,\n",
       "          0.1405821 ,  0.17142509],\n",
       "        ..., \n",
       "        [ 0.01003675,  0.01002145,  0.00997562, ...,  0.00929778,\n",
       "          0.00907504,  0.00882386],\n",
       "        [-0.06269342, -0.06265149, -0.06252871, ..., -0.06124061,\n",
       "         -0.06105165, -0.06099092],\n",
       "        [-0.02292774, -0.02263088, -0.02174393, ..., -0.00908317,\n",
       "         -0.00512575, -0.00079581]],\n",
       "\n",
       "       [[ 0.03978201,  0.04167889,  0.04733658, ...,  0.12637758,\n",
       "          0.15035698,  0.17614655],\n",
       "        [ 0.00728493,  0.00979888,  0.01729159, ...,  0.12100152,\n",
       "          0.15203949,  0.18514389],\n",
       "        [-0.00966267, -0.00753114, -0.00117634, ...,  0.08711157,\n",
       "          0.11367845,  0.1421075 ],\n",
       "        ..., \n",
       "        [ 0.00698085,  0.00695076,  0.00686086, ...,  0.00557909,\n",
       "          0.00517934,  0.00474272],\n",
       "        [ 0.03279157,  0.03276293,  0.03267809, ...,  0.03161197,\n",
       "          0.03134649,  0.03110333],\n",
       "        [ 0.03066364,  0.03076675,  0.03107588, ...,  0.03569175,\n",
       "          0.03722911,  0.03897685]]])"
      ]
     },
     "execution_count": 9,
     "metadata": {},
     "output_type": "execute_result"
    }
   ],
   "source": [
    "im.rpp"
   ]
  },
  {
   "cell_type": "code",
   "execution_count": 13,
   "metadata": {
    "collapsed": false,
    "scrolled": true
   },
   "outputs": [],
   "source": [
    "s = Seismic()"
   ]
  },
  {
   "cell_type": "code",
   "execution_count": null,
   "metadata": {
    "collapsed": true
   },
   "outputs": [],
   "source": []
  },
  {
   "cell_type": "code",
   "execution_count": null,
   "metadata": {
    "collapsed": true
   },
   "outputs": [],
   "source": []
  },
  {
   "cell_type": "code",
   "execution_count": null,
   "metadata": {
    "collapsed": true
   },
   "outputs": [],
   "source": []
  }
 ],
 "metadata": {
  "kernelspec": {
   "display_name": "Python 2",
   "language": "python",
   "name": "python2"
  },
  "language_info": {
   "codemirror_mode": {
    "name": "ipython",
    "version": 2
   },
   "file_extension": ".py",
   "mimetype": "text/x-python",
   "name": "python",
   "nbconvert_exporter": "python",
   "pygments_lexer": "ipython2",
   "version": "2.7.10"
  }
 },
 "nbformat": 4,
 "nbformat_minor": 0
}
